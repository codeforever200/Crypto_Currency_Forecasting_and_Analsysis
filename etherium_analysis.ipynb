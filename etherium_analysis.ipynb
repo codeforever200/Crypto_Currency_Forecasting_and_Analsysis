{
  "nbformat": 4,
  "nbformat_minor": 0,
  "metadata": {
    "colab": {
      "provenance": [],
      "authorship_tag": "ABX9TyOTC5Q2voHMONRCw9DGttKP",
      "include_colab_link": true
    },
    "kernelspec": {
      "name": "python3",
      "display_name": "Python 3"
    },
    "language_info": {
      "name": "python"
    }
  },
  "cells": [
    {
      "cell_type": "markdown",
      "metadata": {
        "id": "view-in-github",
        "colab_type": "text"
      },
      "source": [
        "<a href=\"https://colab.research.google.com/github/codeforever200/Crypto_Currency_Forecasting_and_Analsysis/blob/main/etherium_analysis.ipynb\" target=\"_parent\"><img src=\"https://colab.research.google.com/assets/colab-badge.svg\" alt=\"Open In Colab\"/></a>"
      ]
    },
    {
      "cell_type": "markdown",
      "source": [
        "# Loading data from Bitmex API\n"
      ],
      "metadata": {
        "id": "LxXbLbFitHJ1"
      }
    },
    {
      "cell_type": "code",
      "source": [
        "### API\n",
        "bitmex_api_key = 'I_4iX_04vIf8wq6a2VDyg2In'\n",
        "bitmex_api_secret = 'Alnt16ufGGRZYUztBb3ZdQf2ZZ7em5vpxhIoHrVmj8Mpvf4c'"
      ],
      "metadata": {
        "id": "SIt3-tGgtXHc"
      },
      "execution_count": null,
      "outputs": []
    },
    {
      "cell_type": "markdown",
      "source": [
        "# 2. ETHERIUM PRICE ANALYSIS"
      ],
      "metadata": {
        "id": "3piWkYo9bsD0"
      }
    },
    {
      "cell_type": "code",
      "source": [
        "df_1h = get_all_bitmex(\"ETHUSD\",\"1h\",save = True)"
      ],
      "metadata": {
        "id": "reoDH6sEPgen"
      },
      "execution_count": null,
      "outputs": []
    },
    {
      "cell_type": "code",
      "source": [
        "df_1h.info()"
      ],
      "metadata": {
        "colab": {
          "base_uri": "https://localhost:8080/"
        },
        "id": "YhWUKHoBt3kC",
        "outputId": "e672840b-f2ff-41b0-8561-6a91f4cc12ea"
      },
      "execution_count": null,
      "outputs": [
        {
          "output_type": "stream",
          "name": "stdout",
          "text": [
            "<class 'pandas.core.frame.DataFrame'>\n",
            "DatetimeIndex: 42318 entries, 2018-08-02 10:00:00+00:00 to 2023-05-31 15:00:00+00:00\n",
            "Data columns (total 12 columns):\n",
            " #   Column           Non-Null Count  Dtype  \n",
            "---  ------           --------------  -----  \n",
            " 0   symbol           42318 non-null  object \n",
            " 1   open             42318 non-null  float64\n",
            " 2   high             42318 non-null  float64\n",
            " 3   low              42318 non-null  float64\n",
            " 4   close            42318 non-null  float64\n",
            " 5   trades           42318 non-null  int64  \n",
            " 6   volume           42318 non-null  int64  \n",
            " 7   vwap             42310 non-null  float64\n",
            " 8   lastSize         42310 non-null  float64\n",
            " 9   turnover         42318 non-null  int64  \n",
            " 10  homeNotional     42318 non-null  float64\n",
            " 11  foreignNotional  42318 non-null  float64\n",
            "dtypes: float64(8), int64(3), object(1)\n",
            "memory usage: 4.2+ MB\n"
          ]
        }
      ]
    },
    {
      "cell_type": "code",
      "source": [
        "df_1h.reset_index(level=0, inplace=True)\n",
        "df_1h = df_1h.dropna()\n",
        "df_1h.head()"
      ],
      "metadata": {
        "colab": {
          "base_uri": "https://localhost:8080/",
          "height": 206
        },
        "id": "W04w5vv6t6H0",
        "outputId": "8192a193-0223-4b11-9b54-75a8e615c36d"
      },
      "execution_count": null,
      "outputs": [
        {
          "output_type": "execute_result",
          "data": {
            "text/plain": [
              "                  timestamp  symbol   open    high     low   close  trades  \\\n",
              "0 2018-08-02 10:00:00+00:00  ETHUSD  400.0  435.50  400.00  415.40     496   \n",
              "1 2018-08-02 11:00:00+00:00  ETHUSD  415.4  427.00  410.00  417.00    1188   \n",
              "2 2018-08-02 12:00:00+00:00  ETHUSD  417.0  417.75  415.00  417.10     575   \n",
              "3 2018-08-02 13:00:00+00:00  ETHUSD  417.1  420.40  412.55  412.90     849   \n",
              "4 2018-08-02 14:00:00+00:00  ETHUSD  412.9  413.35  410.70  410.95     760   \n",
              "\n",
              "   volume    vwap  lastSize     turnover  homeNotional  foreignNotional  \n",
              "0  107667  419.36      35.0   4515058885    821.766853     3.446134e+05  \n",
              "1  472988  414.08     200.0  19585447780   3584.547479     1.484287e+06  \n",
              "2  129440  416.54      10.0   5391605530    979.496641     4.079930e+05  \n",
              "3  372325  415.85     128.0  15482789610   2812.529449     1.169573e+06  \n",
              "4  241491  412.39     100.0   9958792935   1816.291402     7.490178e+05  "
            ],
            "text/html": [
              "\n",
              "  <div id=\"df-0a46f9db-9e7f-49c4-adef-2266c18195e6\">\n",
              "    <div class=\"colab-df-container\">\n",
              "      <div>\n",
              "<style scoped>\n",
              "    .dataframe tbody tr th:only-of-type {\n",
              "        vertical-align: middle;\n",
              "    }\n",
              "\n",
              "    .dataframe tbody tr th {\n",
              "        vertical-align: top;\n",
              "    }\n",
              "\n",
              "    .dataframe thead th {\n",
              "        text-align: right;\n",
              "    }\n",
              "</style>\n",
              "<table border=\"1\" class=\"dataframe\">\n",
              "  <thead>\n",
              "    <tr style=\"text-align: right;\">\n",
              "      <th></th>\n",
              "      <th>timestamp</th>\n",
              "      <th>symbol</th>\n",
              "      <th>open</th>\n",
              "      <th>high</th>\n",
              "      <th>low</th>\n",
              "      <th>close</th>\n",
              "      <th>trades</th>\n",
              "      <th>volume</th>\n",
              "      <th>vwap</th>\n",
              "      <th>lastSize</th>\n",
              "      <th>turnover</th>\n",
              "      <th>homeNotional</th>\n",
              "      <th>foreignNotional</th>\n",
              "    </tr>\n",
              "  </thead>\n",
              "  <tbody>\n",
              "    <tr>\n",
              "      <th>0</th>\n",
              "      <td>2018-08-02 10:00:00+00:00</td>\n",
              "      <td>ETHUSD</td>\n",
              "      <td>400.0</td>\n",
              "      <td>435.50</td>\n",
              "      <td>400.00</td>\n",
              "      <td>415.40</td>\n",
              "      <td>496</td>\n",
              "      <td>107667</td>\n",
              "      <td>419.36</td>\n",
              "      <td>35.0</td>\n",
              "      <td>4515058885</td>\n",
              "      <td>821.766853</td>\n",
              "      <td>3.446134e+05</td>\n",
              "    </tr>\n",
              "    <tr>\n",
              "      <th>1</th>\n",
              "      <td>2018-08-02 11:00:00+00:00</td>\n",
              "      <td>ETHUSD</td>\n",
              "      <td>415.4</td>\n",
              "      <td>427.00</td>\n",
              "      <td>410.00</td>\n",
              "      <td>417.00</td>\n",
              "      <td>1188</td>\n",
              "      <td>472988</td>\n",
              "      <td>414.08</td>\n",
              "      <td>200.0</td>\n",
              "      <td>19585447780</td>\n",
              "      <td>3584.547479</td>\n",
              "      <td>1.484287e+06</td>\n",
              "    </tr>\n",
              "    <tr>\n",
              "      <th>2</th>\n",
              "      <td>2018-08-02 12:00:00+00:00</td>\n",
              "      <td>ETHUSD</td>\n",
              "      <td>417.0</td>\n",
              "      <td>417.75</td>\n",
              "      <td>415.00</td>\n",
              "      <td>417.10</td>\n",
              "      <td>575</td>\n",
              "      <td>129440</td>\n",
              "      <td>416.54</td>\n",
              "      <td>10.0</td>\n",
              "      <td>5391605530</td>\n",
              "      <td>979.496641</td>\n",
              "      <td>4.079930e+05</td>\n",
              "    </tr>\n",
              "    <tr>\n",
              "      <th>3</th>\n",
              "      <td>2018-08-02 13:00:00+00:00</td>\n",
              "      <td>ETHUSD</td>\n",
              "      <td>417.1</td>\n",
              "      <td>420.40</td>\n",
              "      <td>412.55</td>\n",
              "      <td>412.90</td>\n",
              "      <td>849</td>\n",
              "      <td>372325</td>\n",
              "      <td>415.85</td>\n",
              "      <td>128.0</td>\n",
              "      <td>15482789610</td>\n",
              "      <td>2812.529449</td>\n",
              "      <td>1.169573e+06</td>\n",
              "    </tr>\n",
              "    <tr>\n",
              "      <th>4</th>\n",
              "      <td>2018-08-02 14:00:00+00:00</td>\n",
              "      <td>ETHUSD</td>\n",
              "      <td>412.9</td>\n",
              "      <td>413.35</td>\n",
              "      <td>410.70</td>\n",
              "      <td>410.95</td>\n",
              "      <td>760</td>\n",
              "      <td>241491</td>\n",
              "      <td>412.39</td>\n",
              "      <td>100.0</td>\n",
              "      <td>9958792935</td>\n",
              "      <td>1816.291402</td>\n",
              "      <td>7.490178e+05</td>\n",
              "    </tr>\n",
              "  </tbody>\n",
              "</table>\n",
              "</div>\n",
              "      <button class=\"colab-df-convert\" onclick=\"convertToInteractive('df-0a46f9db-9e7f-49c4-adef-2266c18195e6')\"\n",
              "              title=\"Convert this dataframe to an interactive table.\"\n",
              "              style=\"display:none;\">\n",
              "        \n",
              "  <svg xmlns=\"http://www.w3.org/2000/svg\" height=\"24px\"viewBox=\"0 0 24 24\"\n",
              "       width=\"24px\">\n",
              "    <path d=\"M0 0h24v24H0V0z\" fill=\"none\"/>\n",
              "    <path d=\"M18.56 5.44l.94 2.06.94-2.06 2.06-.94-2.06-.94-.94-2.06-.94 2.06-2.06.94zm-11 1L8.5 8.5l.94-2.06 2.06-.94-2.06-.94L8.5 2.5l-.94 2.06-2.06.94zm10 10l.94 2.06.94-2.06 2.06-.94-2.06-.94-.94-2.06-.94 2.06-2.06.94z\"/><path d=\"M17.41 7.96l-1.37-1.37c-.4-.4-.92-.59-1.43-.59-.52 0-1.04.2-1.43.59L10.3 9.45l-7.72 7.72c-.78.78-.78 2.05 0 2.83L4 21.41c.39.39.9.59 1.41.59.51 0 1.02-.2 1.41-.59l7.78-7.78 2.81-2.81c.8-.78.8-2.07 0-2.86zM5.41 20L4 18.59l7.72-7.72 1.47 1.35L5.41 20z\"/>\n",
              "  </svg>\n",
              "      </button>\n",
              "      \n",
              "  <style>\n",
              "    .colab-df-container {\n",
              "      display:flex;\n",
              "      flex-wrap:wrap;\n",
              "      gap: 12px;\n",
              "    }\n",
              "\n",
              "    .colab-df-convert {\n",
              "      background-color: #E8F0FE;\n",
              "      border: none;\n",
              "      border-radius: 50%;\n",
              "      cursor: pointer;\n",
              "      display: none;\n",
              "      fill: #1967D2;\n",
              "      height: 32px;\n",
              "      padding: 0 0 0 0;\n",
              "      width: 32px;\n",
              "    }\n",
              "\n",
              "    .colab-df-convert:hover {\n",
              "      background-color: #E2EBFA;\n",
              "      box-shadow: 0px 1px 2px rgba(60, 64, 67, 0.3), 0px 1px 3px 1px rgba(60, 64, 67, 0.15);\n",
              "      fill: #174EA6;\n",
              "    }\n",
              "\n",
              "    [theme=dark] .colab-df-convert {\n",
              "      background-color: #3B4455;\n",
              "      fill: #D2E3FC;\n",
              "    }\n",
              "\n",
              "    [theme=dark] .colab-df-convert:hover {\n",
              "      background-color: #434B5C;\n",
              "      box-shadow: 0px 1px 3px 1px rgba(0, 0, 0, 0.15);\n",
              "      filter: drop-shadow(0px 1px 2px rgba(0, 0, 0, 0.3));\n",
              "      fill: #FFFFFF;\n",
              "    }\n",
              "  </style>\n",
              "\n",
              "      <script>\n",
              "        const buttonEl =\n",
              "          document.querySelector('#df-0a46f9db-9e7f-49c4-adef-2266c18195e6 button.colab-df-convert');\n",
              "        buttonEl.style.display =\n",
              "          google.colab.kernel.accessAllowed ? 'block' : 'none';\n",
              "\n",
              "        async function convertToInteractive(key) {\n",
              "          const element = document.querySelector('#df-0a46f9db-9e7f-49c4-adef-2266c18195e6');\n",
              "          const dataTable =\n",
              "            await google.colab.kernel.invokeFunction('convertToInteractive',\n",
              "                                                     [key], {});\n",
              "          if (!dataTable) return;\n",
              "\n",
              "          const docLinkHtml = 'Like what you see? Visit the ' +\n",
              "            '<a target=\"_blank\" href=https://colab.research.google.com/notebooks/data_table.ipynb>data table notebook</a>'\n",
              "            + ' to learn more about interactive tables.';\n",
              "          element.innerHTML = '';\n",
              "          dataTable['output_type'] = 'display_data';\n",
              "          await google.colab.output.renderOutput(dataTable, element);\n",
              "          const docLink = document.createElement('div');\n",
              "          docLink.innerHTML = docLinkHtml;\n",
              "          element.appendChild(docLink);\n",
              "        }\n",
              "      </script>\n",
              "    </div>\n",
              "  </div>\n",
              "  "
            ]
          },
          "metadata": {},
          "execution_count": 12
        }
      ]
    },
    {
      "cell_type": "code",
      "source": [
        "df_1h.to_csv('etherium_1h.csv', index=False)"
      ],
      "metadata": {
        "id": "sDUmqZFgA5xk"
      },
      "execution_count": null,
      "outputs": []
    },
    {
      "cell_type": "code",
      "source": [
        "# Printing the start date and End date of the dataset\n",
        "\n",
        "sd=df_1h.iloc[0][0]\n",
        "ed=df_1h.iloc[-1][0]\n",
        "\n",
        "\n",
        "print('Starting Date',sd)\n",
        "print('Ending Date',ed)"
      ],
      "metadata": {
        "colab": {
          "base_uri": "https://localhost:8080/"
        },
        "id": "NRL3jXYDt7GZ",
        "outputId": "d6737e60-230d-413a-f2d9-8673c249fe10"
      },
      "execution_count": null,
      "outputs": [
        {
          "output_type": "stream",
          "name": "stdout",
          "text": [
            "Starting Date 2018-08-02 10:00:00+00:00\n",
            "Ending Date 2023-05-31 15:00:00+00:00\n"
          ]
        }
      ]
    },
    {
      "cell_type": "code",
      "source": [
        "# Year 2018-21\n",
        "\n",
        "split_h = '2018-01-01'\n",
        "split_t = '2021-01-01'\n",
        "df =  df_1h.loc[ df_1h['timestamp'] < split_t]\n",
        "df_18_20 = df[ df['timestamp'] >= split_h]"
      ],
      "metadata": {
        "id": "Z_4BpncNLdKa"
      },
      "execution_count": null,
      "outputs": []
    },
    {
      "cell_type": "code",
      "source": [
        "# Year 2021-23\n",
        "\n",
        "split_h = '2021-01-01'\n",
        "df_21_23 = df_1h[ df_1h['timestamp'] >= split_h]"
      ],
      "metadata": {
        "id": "L8Znd7lTLdUS"
      },
      "execution_count": null,
      "outputs": []
    },
    {
      "cell_type": "code",
      "source": [
        "df_21_23.tail()"
      ],
      "metadata": {
        "colab": {
          "base_uri": "https://localhost:8080/",
          "height": 206
        },
        "id": "ANnnBqdyDrTi",
        "outputId": "7a8a7c24-c194-4303-a987-83408f9a9355"
      },
      "execution_count": null,
      "outputs": [
        {
          "output_type": "execute_result",
          "data": {
            "text/plain": [
              "                      timestamp  symbol     open     high      low    close  \\\n",
              "42290 2023-05-30 12:00:00+00:00  ETHUSD  1908.90  1917.55  1907.10  1916.55   \n",
              "42291 2023-05-30 13:00:00+00:00  ETHUSD  1916.55  1916.90  1905.45  1910.75   \n",
              "42292 2023-05-30 14:00:00+00:00  ETHUSD  1910.75  1915.65  1903.95  1906.25   \n",
              "42293 2023-05-30 15:00:00+00:00  ETHUSD  1906.25  1911.20  1896.25  1897.75   \n",
              "42294 2023-05-30 16:00:00+00:00  ETHUSD  1897.75  1905.00  1895.75  1902.30   \n",
              "\n",
              "       trades  volume     vwap  lastSize     turnover  homeNotional  \\\n",
              "42290    1558   40264  1913.32       5.0   7703759700   1126.476987   \n",
              "42291    1923   56882  1911.01       6.0  10870156385   1589.181824   \n",
              "42292    2021   58390  1910.65       1.0  11156208145   1629.761692   \n",
              "42293    2553   59313  1903.10       3.0  11287808805   1646.008896   \n",
              "42294    1787   43935  1900.15       5.0   8348240810   1216.123326   \n",
              "\n",
              "       foreignNotional  \n",
              "42290     2.155304e+06  \n",
              "42291     3.036941e+06  \n",
              "42292     3.113892e+06  \n",
              "42293     3.132520e+06  \n",
              "42294     2.310801e+06  "
            ],
            "text/html": [
              "\n",
              "  <div id=\"df-ac6d70a5-e1cf-48f3-a2ef-5cf5547236ef\">\n",
              "    <div class=\"colab-df-container\">\n",
              "      <div>\n",
              "<style scoped>\n",
              "    .dataframe tbody tr th:only-of-type {\n",
              "        vertical-align: middle;\n",
              "    }\n",
              "\n",
              "    .dataframe tbody tr th {\n",
              "        vertical-align: top;\n",
              "    }\n",
              "\n",
              "    .dataframe thead th {\n",
              "        text-align: right;\n",
              "    }\n",
              "</style>\n",
              "<table border=\"1\" class=\"dataframe\">\n",
              "  <thead>\n",
              "    <tr style=\"text-align: right;\">\n",
              "      <th></th>\n",
              "      <th>timestamp</th>\n",
              "      <th>symbol</th>\n",
              "      <th>open</th>\n",
              "      <th>high</th>\n",
              "      <th>low</th>\n",
              "      <th>close</th>\n",
              "      <th>trades</th>\n",
              "      <th>volume</th>\n",
              "      <th>vwap</th>\n",
              "      <th>lastSize</th>\n",
              "      <th>turnover</th>\n",
              "      <th>homeNotional</th>\n",
              "      <th>foreignNotional</th>\n",
              "    </tr>\n",
              "  </thead>\n",
              "  <tbody>\n",
              "    <tr>\n",
              "      <th>42290</th>\n",
              "      <td>2023-05-30 12:00:00+00:00</td>\n",
              "      <td>ETHUSD</td>\n",
              "      <td>1908.90</td>\n",
              "      <td>1917.55</td>\n",
              "      <td>1907.10</td>\n",
              "      <td>1916.55</td>\n",
              "      <td>1558</td>\n",
              "      <td>40264</td>\n",
              "      <td>1913.32</td>\n",
              "      <td>5.0</td>\n",
              "      <td>7703759700</td>\n",
              "      <td>1126.476987</td>\n",
              "      <td>2.155304e+06</td>\n",
              "    </tr>\n",
              "    <tr>\n",
              "      <th>42291</th>\n",
              "      <td>2023-05-30 13:00:00+00:00</td>\n",
              "      <td>ETHUSD</td>\n",
              "      <td>1916.55</td>\n",
              "      <td>1916.90</td>\n",
              "      <td>1905.45</td>\n",
              "      <td>1910.75</td>\n",
              "      <td>1923</td>\n",
              "      <td>56882</td>\n",
              "      <td>1911.01</td>\n",
              "      <td>6.0</td>\n",
              "      <td>10870156385</td>\n",
              "      <td>1589.181824</td>\n",
              "      <td>3.036941e+06</td>\n",
              "    </tr>\n",
              "    <tr>\n",
              "      <th>42292</th>\n",
              "      <td>2023-05-30 14:00:00+00:00</td>\n",
              "      <td>ETHUSD</td>\n",
              "      <td>1910.75</td>\n",
              "      <td>1915.65</td>\n",
              "      <td>1903.95</td>\n",
              "      <td>1906.25</td>\n",
              "      <td>2021</td>\n",
              "      <td>58390</td>\n",
              "      <td>1910.65</td>\n",
              "      <td>1.0</td>\n",
              "      <td>11156208145</td>\n",
              "      <td>1629.761692</td>\n",
              "      <td>3.113892e+06</td>\n",
              "    </tr>\n",
              "    <tr>\n",
              "      <th>42293</th>\n",
              "      <td>2023-05-30 15:00:00+00:00</td>\n",
              "      <td>ETHUSD</td>\n",
              "      <td>1906.25</td>\n",
              "      <td>1911.20</td>\n",
              "      <td>1896.25</td>\n",
              "      <td>1897.75</td>\n",
              "      <td>2553</td>\n",
              "      <td>59313</td>\n",
              "      <td>1903.10</td>\n",
              "      <td>3.0</td>\n",
              "      <td>11287808805</td>\n",
              "      <td>1646.008896</td>\n",
              "      <td>3.132520e+06</td>\n",
              "    </tr>\n",
              "    <tr>\n",
              "      <th>42294</th>\n",
              "      <td>2023-05-30 16:00:00+00:00</td>\n",
              "      <td>ETHUSD</td>\n",
              "      <td>1897.75</td>\n",
              "      <td>1905.00</td>\n",
              "      <td>1895.75</td>\n",
              "      <td>1902.30</td>\n",
              "      <td>1787</td>\n",
              "      <td>43935</td>\n",
              "      <td>1900.15</td>\n",
              "      <td>5.0</td>\n",
              "      <td>8348240810</td>\n",
              "      <td>1216.123326</td>\n",
              "      <td>2.310801e+06</td>\n",
              "    </tr>\n",
              "  </tbody>\n",
              "</table>\n",
              "</div>\n",
              "      <button class=\"colab-df-convert\" onclick=\"convertToInteractive('df-ac6d70a5-e1cf-48f3-a2ef-5cf5547236ef')\"\n",
              "              title=\"Convert this dataframe to an interactive table.\"\n",
              "              style=\"display:none;\">\n",
              "        \n",
              "  <svg xmlns=\"http://www.w3.org/2000/svg\" height=\"24px\"viewBox=\"0 0 24 24\"\n",
              "       width=\"24px\">\n",
              "    <path d=\"M0 0h24v24H0V0z\" fill=\"none\"/>\n",
              "    <path d=\"M18.56 5.44l.94 2.06.94-2.06 2.06-.94-2.06-.94-.94-2.06-.94 2.06-2.06.94zm-11 1L8.5 8.5l.94-2.06 2.06-.94-2.06-.94L8.5 2.5l-.94 2.06-2.06.94zm10 10l.94 2.06.94-2.06 2.06-.94-2.06-.94-.94-2.06-.94 2.06-2.06.94z\"/><path d=\"M17.41 7.96l-1.37-1.37c-.4-.4-.92-.59-1.43-.59-.52 0-1.04.2-1.43.59L10.3 9.45l-7.72 7.72c-.78.78-.78 2.05 0 2.83L4 21.41c.39.39.9.59 1.41.59.51 0 1.02-.2 1.41-.59l7.78-7.78 2.81-2.81c.8-.78.8-2.07 0-2.86zM5.41 20L4 18.59l7.72-7.72 1.47 1.35L5.41 20z\"/>\n",
              "  </svg>\n",
              "      </button>\n",
              "      \n",
              "  <style>\n",
              "    .colab-df-container {\n",
              "      display:flex;\n",
              "      flex-wrap:wrap;\n",
              "      gap: 12px;\n",
              "    }\n",
              "\n",
              "    .colab-df-convert {\n",
              "      background-color: #E8F0FE;\n",
              "      border: none;\n",
              "      border-radius: 50%;\n",
              "      cursor: pointer;\n",
              "      display: none;\n",
              "      fill: #1967D2;\n",
              "      height: 32px;\n",
              "      padding: 0 0 0 0;\n",
              "      width: 32px;\n",
              "    }\n",
              "\n",
              "    .colab-df-convert:hover {\n",
              "      background-color: #E2EBFA;\n",
              "      box-shadow: 0px 1px 2px rgba(60, 64, 67, 0.3), 0px 1px 3px 1px rgba(60, 64, 67, 0.15);\n",
              "      fill: #174EA6;\n",
              "    }\n",
              "\n",
              "    [theme=dark] .colab-df-convert {\n",
              "      background-color: #3B4455;\n",
              "      fill: #D2E3FC;\n",
              "    }\n",
              "\n",
              "    [theme=dark] .colab-df-convert:hover {\n",
              "      background-color: #434B5C;\n",
              "      box-shadow: 0px 1px 3px 1px rgba(0, 0, 0, 0.15);\n",
              "      filter: drop-shadow(0px 1px 2px rgba(0, 0, 0, 0.3));\n",
              "      fill: #FFFFFF;\n",
              "    }\n",
              "  </style>\n",
              "\n",
              "      <script>\n",
              "        const buttonEl =\n",
              "          document.querySelector('#df-ac6d70a5-e1cf-48f3-a2ef-5cf5547236ef button.colab-df-convert');\n",
              "        buttonEl.style.display =\n",
              "          google.colab.kernel.accessAllowed ? 'block' : 'none';\n",
              "\n",
              "        async function convertToInteractive(key) {\n",
              "          const element = document.querySelector('#df-ac6d70a5-e1cf-48f3-a2ef-5cf5547236ef');\n",
              "          const dataTable =\n",
              "            await google.colab.kernel.invokeFunction('convertToInteractive',\n",
              "                                                     [key], {});\n",
              "          if (!dataTable) return;\n",
              "\n",
              "          const docLinkHtml = 'Like what you see? Visit the ' +\n",
              "            '<a target=\"_blank\" href=https://colab.research.google.com/notebooks/data_table.ipynb>data table notebook</a>'\n",
              "            + ' to learn more about interactive tables.';\n",
              "          element.innerHTML = '';\n",
              "          dataTable['output_type'] = 'display_data';\n",
              "          await google.colab.output.renderOutput(dataTable, element);\n",
              "          const docLink = document.createElement('div');\n",
              "          docLink.innerHTML = docLinkHtml;\n",
              "          element.appendChild(docLink);\n",
              "        }\n",
              "      </script>\n",
              "    </div>\n",
              "  </div>\n",
              "  "
            ]
          },
          "metadata": {},
          "execution_count": 13
        }
      ]
    },
    {
      "cell_type": "code",
      "source": [
        "print('Total number of days present in the dataset: ',df_1h.shape[0])\n",
        "print('Total number of fields present in the dataset: ',df_1h.shape[1])"
      ],
      "metadata": {
        "colab": {
          "base_uri": "https://localhost:8080/"
        },
        "id": "z45wudAst-1N",
        "outputId": "0f6deb21-e156-4b8a-a936-32c39ece4308"
      },
      "execution_count": null,
      "outputs": [
        {
          "output_type": "stream",
          "name": "stdout",
          "text": [
            "Total number of days present in the dataset:  42287\n",
            "Total number of fields present in the dataset:  13\n"
          ]
        }
      ]
    },
    {
      "cell_type": "code",
      "source": [
        "df_1h.set_index(\"timestamp\").close.plot(figsize=(24,7), title=\"Etherium Closing Prices (2018-23)\",color='red')"
      ],
      "metadata": {
        "id": "u3ze14KFu9W4"
      },
      "execution_count": null,
      "outputs": []
    },
    {
      "cell_type": "code",
      "source": [
        "df_1h['date'] = pd.to_datetime(df_1h['timestamp'],unit='s').dt.date"
      ],
      "metadata": {
        "id": "uJk9MRzp_J2v"
      },
      "execution_count": null,
      "outputs": []
    },
    {
      "cell_type": "code",
      "source": [
        "# plot the closing prices\n",
        "df = df_1h.set_index('date')\n",
        "fig, ax = plt.subplots(figsize=(24, 7))\n",
        "df['close'].plot(ax=ax, title='Etherium Closing Prices (2018-23)',color='cyan')\n",
        "\n",
        "# calculate the 30-day moving average\n",
        "ma = df['close'].rolling(window=1000).mean()\n",
        "\n",
        "# plot the moving average line\n",
        "ma.plot(ax=ax, label='1000-days Moving Average',color='red')\n",
        "\n",
        "# add legend and show the plot\n",
        "ax.legend()\n",
        "plt.show()"
      ],
      "metadata": {
        "id": "_ykwhbYbR39P"
      },
      "execution_count": null,
      "outputs": []
    },
    {
      "cell_type": "code",
      "source": [
        "import plotly.graph_objects as go\n",
        "\n",
        "# Filter the data for Ethereum\n",
        "df_ethereum = df_1h[df_1h['symbol'] == 'ETHUSD']\n",
        "\n",
        "# Calculate the 24-hour moving average\n",
        "ma_24hr = df_ethereum['close'].rolling(window=24).mean()\n",
        "\n",
        "# Calculate the 48-hour moving average\n",
        "ma_48hr = df_ethereum['close'].rolling(window=48).mean()\n",
        "\n",
        "\n",
        "# Create a trace for the 24-hour moving average\n",
        "trace_ma_24hr = go.Scatter(\n",
        "    x=df_ethereum.index,\n",
        "    y=ma_24hr,\n",
        "    mode='lines',\n",
        "    name='24-hour Moving Average',\n",
        "    line=dict(color='green')\n",
        ")\n",
        "\n",
        "# Create a trace for the 48-hour moving average\n",
        "trace_ma_48hr = go.Scatter(\n",
        "    x=df_ethereum.index,\n",
        "    y=ma_48hr,\n",
        "    mode='lines',\n",
        "    name='48-hour Moving Average',\n",
        "    line=dict(color='blue')\n",
        ")\n",
        "\n",
        "# Create the layout\n",
        "layout = go.Layout(\n",
        "    title='Ethereum Closing Prices and Moving Averages',\n",
        "    xaxis=dict(title='Date'),\n",
        "    yaxis=dict(title='Price'),\n",
        "    showlegend=True,\n",
        "    width=2000,  # Set the width of the plot in pixels\n",
        "    height=800  # Set the height of the plot in pixels\n",
        ")\n",
        "\n",
        "# Create the figure\n",
        "fig = go.Figure(data=[trace_ma_24hr, trace_ma_48hr], layout=layout)\n",
        "\n",
        "# Show the figure\n",
        "fig.show()\n",
        "\n",
        "\n"
      ],
      "metadata": {
        "id": "ihch665WSpic"
      },
      "execution_count": null,
      "outputs": []
    },
    {
      "cell_type": "code",
      "source": [
        "# create a figure with 3 subplots arranged in a 3x1 grid\n",
        "fig, axes = plt.subplots(nrows=2, ncols=1, figsize=(8,8))\n",
        "\n",
        "# plot the second dataframe on the second subplot\n",
        "mean2 = df_18_20['close'].mean()\n",
        "df_18_20['close'].hist(ax=axes[0], bins=10, alpha=0.5, color='blue')\n",
        "axes[0].axvline(mean2, color='black', linestyle='dashed', linewidth=2)\n",
        "axes[0].set_title('Closing Price Histogram (2018-20)')\n",
        "\n",
        "# plot the third dataframe on the third subplot\n",
        "mean3 = df_21_23['close'].mean()\n",
        "df_21_23['close'].hist(ax=axes[1], bins=10, alpha=0.5, color='green')\n",
        "axes[1].axvline(mean3, color='black', linestyle='dashed', linewidth=2)\n",
        "axes[1].set_title('Closing Price Histogram (2021-23)')\n",
        "# adjust the spacing between subplots\n",
        "plt.tight_layout()\n",
        "\n",
        "# show the plot\n",
        "plt.show()"
      ],
      "metadata": {
        "id": "pi9EsvsECRe6"
      },
      "execution_count": null,
      "outputs": []
    },
    {
      "cell_type": "markdown",
      "source": [
        "## Lag plots"
      ],
      "metadata": {
        "id": "vpk9xVSVvGrI"
      }
    },
    {
      "cell_type": "code",
      "source": [
        "import matplotlib.pyplot as plt\n",
        "import pandas as pd\n",
        "\n",
        "plt.figure(figsize=(15, 12))\n",
        "plt.suptitle('Lag Plots for Ethereum Closing Price', fontsize=22)\n",
        "\n",
        "# 1-Minute Lag\n",
        "plt.subplot(3, 2, 1)\n",
        "lag_plot = pd.plotting.lag_plot(df_1h['close'], lag=1, c='purple', alpha=0.7, marker='o')\n",
        "lag_plot.axes.scatter(lag_plot.get_xlim(), lag_plot.get_ylim(), marker='o', s=3, c='purple')\n",
        "plt.title('Minute Lag')\n",
        "\n",
        "# 1-Hour Lag\n",
        "plt.subplot(3, 2, 2)\n",
        "lag_plot = pd.plotting.lag_plot(df_1h['close'], lag=60, c='purple', alpha=0.7, marker='o')\n",
        "lag_plot.axes.scatter(lag_plot.get_xlim(), lag_plot.get_ylim(), marker='o', s=3, c='purple')\n",
        "plt.title('Hourly Lag')\n",
        "\n",
        "# Daily Lag\n",
        "plt.subplot(3, 2, 3)\n",
        "lag_plot = pd.plotting.lag_plot(df_1h['close'], lag=1440, c='purple', alpha=0.7, marker='o')\n",
        "lag_plot.axes.scatter(lag_plot.get_xlim(), lag_plot.get_ylim(), marker='o', s=3, c='purple')\n",
        "plt.title('Daily Lag')\n",
        "\n",
        "# Weekly Lag\n",
        "plt.subplot(3, 2, 4)\n",
        "lag_plot = pd.plotting.lag_plot(df_1h['close'], lag=10080, c='purple', alpha=0.7, marker='o')\n",
        "lag_plot.axes.scatter(lag_plot.get_xlim(), lag_plot.get_ylim(), marker='o', s=3, c='purple')\n",
        "plt.title('Weekly Lag')\n",
        "\n",
        "# 1-Month Lag\n",
        "plt.subplot(3, 2, 5)\n",
        "lag_plot = pd.plotting.lag_plot(df_1h['close'], lag=43200, c='purple', alpha=0.7, marker='o')\n",
        "lag_plot.axes.scatter(lag_plot.get_xlim(), lag_plot.get_ylim(), marker='o', s=3, c='purple')\n",
        "plt.title('Monthly Lag')\n",
        "\n",
        "plt.tight_layout()  # Improves subplot spacing\n",
        "plt.show()\n"
      ],
      "metadata": {
        "id": "0i09SkRQfuDA"
      },
      "execution_count": null,
      "outputs": []
    },
    {
      "cell_type": "markdown",
      "source": [
        "# Stationarity check and STL-decomposition of the series"
      ],
      "metadata": {
        "id": "V9KOnn4dPk2O"
      }
    },
    {
      "cell_type": "code",
      "source": [
        "# Resampling to daily,monthy frequency\n",
        "df_1h.index = df_1h.timestamp\n",
        "df_day = df_1h.resample('D').mean()\n",
        "df_month = df_1h.resample('M').mean()"
      ],
      "metadata": {
        "colab": {
          "base_uri": "https://localhost:8080/"
        },
        "id": "RR_9fcadpXhS",
        "outputId": "8eae9d1a-717c-4f32-c899-9460443016f0"
      },
      "execution_count": null,
      "outputs": [
        {
          "output_type": "stream",
          "name": "stderr",
          "text": [
            "<ipython-input-25-78947312a8c4>:3: FutureWarning: The default value of numeric_only in DataFrameGroupBy.mean is deprecated. In a future version, numeric_only will default to False. Either specify numeric_only or select only columns which should be valid for the function.\n",
            "  df_day = df_1h.resample('D').mean()\n",
            "<ipython-input-25-78947312a8c4>:4: FutureWarning: The default value of numeric_only in DataFrameGroupBy.mean is deprecated. In a future version, numeric_only will default to False. Either specify numeric_only or select only columns which should be valid for the function.\n",
            "  df_month = df_1h.resample('M').mean()\n"
          ]
        }
      ]
    },
    {
      "cell_type": "markdown",
      "source": [
        "### **Augmented Dickey Fuller Test**\n"
      ],
      "metadata": {
        "id": "P21F0C9NteFe"
      }
    },
    {
      "cell_type": "code",
      "source": [
        "# ADF Test on hourly data\n",
        "# Function to print out results in customised manner\n",
        "from statsmodels.tsa.stattools import adfuller\n",
        "def adf_test(timeseries):\n",
        "    print ('Results of Dickey-Fuller Test:')\n",
        "    dftest = adfuller(timeseries, autolag='AIC')\n",
        "    dfoutput = pd.Series(dftest[0:4], index=['Test Statistic','p-value','#Lags Used','Number of Observations Used'])\n",
        "    for key,value in dftest[4].items():\n",
        "        dfoutput['Critical Value (%s)'%key] = value\n",
        "    print (dfoutput)\n",
        "# Call the function and run the test\n",
        "\n",
        "adf_test(df_1h['close'])"
      ],
      "metadata": {
        "id": "qjzLtU25v9vp"
      },
      "execution_count": null,
      "outputs": []
    },
    {
      "cell_type": "code",
      "source": [
        "# ADF Test on daily data\n",
        "# Function to print out results in customised manner\n",
        "from statsmodels.tsa.stattools import adfuller\n",
        "def adf_test(timeseries):\n",
        "    print ('Results of Dickey-Fuller Test:')\n",
        "    dftest = adfuller(timeseries, autolag='AIC')\n",
        "    dfoutput = pd.Series(dftest[0:4], index=['Test Statistic','p-value','#Lags Used','Number of Observations Used'])\n",
        "    for key,value in dftest[4].items():\n",
        "        dfoutput['Critical Value (%s)'%key] = value\n",
        "    print (dfoutput)\n",
        "# Call the function and run the test\n",
        "\n",
        "adf_test(df_day['close'])"
      ],
      "metadata": {
        "id": "SJdJ35ajvIVb"
      },
      "execution_count": null,
      "outputs": []
    },
    {
      "cell_type": "code",
      "source": [
        "plt.figure(figsize=[30,10])\n",
        "sm.tsa.seasonal_decompose(df_month.close).plot()\n",
        "plt.show()"
      ],
      "metadata": {
        "id": "b3d5ku9MP8YN"
      },
      "execution_count": null,
      "outputs": []
    },
    {
      "cell_type": "code",
      "source": [
        "df_day['Weighted_Price_box'], lmbda = stats.boxcox(df_day.close)\n",
        "print(\"Dickey–Fuller test: p=%f\" % sm.tsa.stattools.adfuller(df_day.close)[1])"
      ],
      "metadata": {
        "colab": {
          "base_uri": "https://localhost:8080/"
        },
        "id": "l-Mjz_sosdjN",
        "outputId": "893943f8-98b4-4521-a3f2-80f2b63cee33"
      },
      "execution_count": null,
      "outputs": [
        {
          "output_type": "stream",
          "name": "stdout",
          "text": [
            "Dickey–Fuller test: p=0.545524\n"
          ]
        }
      ]
    },
    {
      "cell_type": "markdown",
      "source": [
        "# **KPSS Test**\n"
      ],
      "metadata": {
        "id": "3xcGVW2HT6BI"
      }
    },
    {
      "cell_type": "code",
      "source": [
        "from statsmodels.tsa.stattools import kpss\n",
        "def kpss_test(timeseries):\n",
        "    print ('Results of KPSS Test:')\n",
        "    kpsstest = kpss(timeseries, regression='c', nlags=\"auto\")\n",
        "    kpss_output = pd.Series(kpsstest[0:3], index=['Test Statistic','p-value','#Lags Used'])\n",
        "    for key,value in kpsstest[3].items():\n",
        "        kpss_output['Critical Value (%s)'%key] = value\n",
        "    print (kpss_output)"
      ],
      "metadata": {
        "id": "jJWryNRzT5AB"
      },
      "execution_count": null,
      "outputs": []
    },
    {
      "cell_type": "code",
      "source": [
        "kpss_test(df_day['close'])"
      ],
      "metadata": {
        "id": "rpSi_-0wT5Ge"
      },
      "execution_count": null,
      "outputs": []
    },
    {
      "cell_type": "markdown",
      "source": [
        "## Converting Non-Stationary Into Stationary (applying 3 different methods till stationarity is obtained)"
      ],
      "metadata": {
        "id": "E1zhFBOhgA6b"
      }
    },
    {
      "cell_type": "markdown",
      "source": [
        "**Box-Cox Transformations** - Formally, A Box cox transformation is defined as a way to transform non-normal dependent variables in our data to a normal shape through which we can run a lot more tests than we could have."
      ],
      "metadata": {
        "id": "btRz5Pnl08pb"
      }
    },
    {
      "cell_type": "code",
      "source": [
        "df_month['Weighted_Price_box'], lmbda = stats.boxcox(df_month.close)\n",
        "print(\"Dickey–Fuller test: p=%f\" % sm.tsa.stattools.adfuller(df_month.close)[1])"
      ],
      "metadata": {
        "colab": {
          "base_uri": "https://localhost:8080/"
        },
        "id": "FMgPBDntlSTi",
        "outputId": "63215b24-8adf-40ff-cb0e-da39f75904f6"
      },
      "execution_count": null,
      "outputs": [
        {
          "output_type": "stream",
          "name": "stdout",
          "text": [
            "Dickey–Fuller test: p=0.507728\n"
          ]
        }
      ]
    },
    {
      "cell_type": "markdown",
      "source": [
        " **Seasonal differentiation**\n"
      ],
      "metadata": {
        "id": "Z4XSjIK9j8b8"
      }
    },
    {
      "cell_type": "code",
      "source": [
        "df_month['prices_box_diff'] = df_month.Weighted_Price_box - df_month.Weighted_Price_box.shift(12)\n",
        "print(\"Dickey–Fuller test: p=%f\" % sm.tsa.stattools.adfuller(df_month.prices_box_diff[12:])[1])"
      ],
      "metadata": {
        "colab": {
          "base_uri": "https://localhost:8080/"
        },
        "id": "xSxgTIjykFb8",
        "outputId": "95056558-32e5-4d02-a608-f2b8da2d82cc"
      },
      "execution_count": null,
      "outputs": [
        {
          "output_type": "stream",
          "name": "stdout",
          "text": [
            "Dickey–Fuller test: p=0.044129\n"
          ]
        }
      ]
    },
    {
      "cell_type": "markdown",
      "source": [
        "**Regular differentiation**"
      ],
      "metadata": {
        "id": "SiT65faOkqfY"
      }
    },
    {
      "cell_type": "code",
      "source": [
        "df_month['prices_box_diff2'] = df_month.prices_box_diff - df_month.prices_box_diff.shift(1)\n",
        "plt.figure(figsize=(15,7))\n",
        "\n",
        "# STL-decomposition\n",
        "sm.tsa.seasonal_decompose(df_month.prices_box_diff2[13:]).plot()\n",
        "print(\"Dickey–Fuller test: p=%f\" % sm.tsa.stattools.adfuller(df_month.prices_box_diff2[13:])[1])\n",
        "\n",
        "plt.show()"
      ],
      "metadata": {
        "id": "hk-FXRJikTIp"
      },
      "execution_count": null,
      "outputs": []
    },
    {
      "cell_type": "markdown",
      "source": [
        "### Autocorrelation and Partial Autocorrelation Plots for Model Selection -"
      ],
      "metadata": {
        "id": "V6sSZL-toui-"
      }
    },
    {
      "cell_type": "code",
      "source": [
        "# Initial approximation of parameters using Autocorrelation and Partial Autocorrelation Plots\n",
        "plt.figure(figsize=(15,7))\n",
        "ax = plt.subplot(211)\n",
        "sm.graphics.tsa.plot_acf(df_month.prices_box_diff2[13:].values.squeeze(), lags=20, ax=ax)\n",
        "ax = plt.subplot(212)\n",
        "sm.graphics.tsa.plot_pacf(df_month.prices_box_diff2[13:].values.squeeze(), lags=20, ax=ax)\n",
        "plt.tight_layout()\n",
        "plt.show()"
      ],
      "metadata": {
        "id": "bpn1x9ZIo9TO"
      },
      "execution_count": null,
      "outputs": []
    },
    {
      "cell_type": "markdown",
      "source": [
        "Since the graph reduces gradually, the best model to fit is ARMA/ARIMA."
      ],
      "metadata": {
        "id": "PHABTratpW_M"
      }
    },
    {
      "cell_type": "markdown",
      "source": [
        "# **SARIMA**"
      ],
      "metadata": {
        "id": "Ajx9GCPmqGr7"
      }
    },
    {
      "cell_type": "code",
      "execution_count": null,
      "metadata": {
        "id": "azLhPx5mBcvM"
      },
      "outputs": [],
      "source": [
        "pip install pmdarima"
      ]
    },
    {
      "cell_type": "code",
      "execution_count": null,
      "metadata": {
        "id": "7EjwqiXgANoT"
      },
      "outputs": [],
      "source": [
        "from pmdarima.arima import auto_arima"
      ]
    },
    {
      "cell_type": "code",
      "execution_count": null,
      "metadata": {
        "id": "4xdPDZ8xANoT"
      },
      "outputs": [],
      "source": [
        "train_size = int(len(daily_return) * 0.8)\n",
        "train_data = daily_return[:train_size]\n",
        "test_data  = daily_return[train_size:]"
      ]
    },
    {
      "cell_type": "code",
      "execution_count": null,
      "metadata": {
        "id": "8xvP3zENANoU"
      },
      "outputs": [],
      "source": [
        "model = auto_arima(train_data, trace=True, error_action='ignore', suppress_warnings=True)\n",
        "model.fit(train_data)"
      ]
    },
    {
      "cell_type": "code",
      "execution_count": null,
      "metadata": {
        "id": "tjaKR-odBjn6"
      },
      "outputs": [],
      "source": [
        "from statsmodels.tsa.statespace.sarimax import SARIMAX\n",
        "from sklearn.metrics import mean_squared_error, mean_absolute_error\n",
        "\n",
        "# Split the data into training and test sets\n",
        "#train_data = df_1h['log_returns'][0:int(len(df_1h)*0.80)]\n",
        "#test_data = df_1h['log_returns'][int(len(df_1h)*0.80):int(len(df_1h))]\n",
        "#test_data.index = range(len(train_data), len(train_data) + len(test_data))\n",
        "\n",
        "# Define the p, d, q, and seasonal parameters for the SARIMA model\n",
        "p = 1\n",
        "d = 0\n",
        "q = 2\n",
        "P = 0\n",
        "D = 0\n",
        "Q = 0\n",
        "m = 24  # assuming a seasonal period of 24 for hourly data\n",
        "\n",
        "# Create the SARIMA model\n",
        "model = SARIMAX(train_data, order=(p, d, q), seasonal_order=(P, D, Q, m))\n",
        "\n",
        "# Fit the model\n",
        "res = model.fit()\n",
        "\n",
        "# Get the predicted values\n",
        "pred_train = res.predict()\n",
        "predicted_returns = res.predict(start=test_data.index[0], end=test_data.index[-1])\n",
        "\n",
        "# Calculate the RMSE and MAE for the predicted and actual returns\n",
        "rmse_train = mean_squared_error(train_data, pred_train) ** 0.5\n",
        "mae_train = mean_absolute_error(train_data, pred_train)\n",
        "\n",
        "rmse_pred = mean_squared_error(test_data, predicted_returns) ** 0.5\n",
        "mae_pred = mean_absolute_error(test_data, predicted_returns)\n",
        "\n",
        "print('SARIMA({}, {}, {})({},{},{},{}) model summary:\\n{}'.format(p, d, q, P, D, Q, m, res.summary()))\n",
        "print('RMSE for train data:', rmse_train)\n",
        "print('MAE for train data:', mae_train)\n",
        "print('RMSE for test data:', rmse_pred)\n",
        "print('MAE for test data:', mae_pred)\n"
      ]
    },
    {
      "cell_type": "markdown",
      "source": [
        "# LSTM"
      ],
      "metadata": {
        "id": "ZklokWUB3Ly7"
      }
    },
    {
      "cell_type": "code",
      "execution_count": null,
      "metadata": {
        "id": "a0n9oeNQANoN"
      },
      "outputs": [],
      "source": [
        "data=pd.DataFrame(df_1h[\"close\"])"
      ]
    },
    {
      "cell_type": "code",
      "source": [
        "# import libraries\n",
        "import pandas as pd\n",
        "import numpy as np\n",
        "from keras.models import Sequential\n",
        "from keras.layers import LSTM, Dense, Dropout\n",
        "from sklearn.preprocessing import MinMaxScaler\n",
        "from keras.optimizers import Adam\n",
        "from sklearn.metrics import mean_squared_error\n",
        "from keras.callbacks import EarlyStopping, ReduceLROnPlateau\n",
        "\n",
        "# load data\n",
        "#df.index = pd.to_datetime(df.index)\n",
        "\n",
        "\n",
        "dataset = df_1h[['close']].values\n",
        "dataset = dataset.astype('float32')\n",
        "\n",
        "scaler = MinMaxScaler(feature_range=(0, 1))\n",
        "scaled_data = scaler.fit_transform(dataset)\n",
        "\n",
        "# create training and testing data\n",
        "train_size = int(len(scaled_data) * 0.7)\n",
        "test_size = len(scaled_data) - train_size\n",
        "train_data, test_data = scaled_data[0:train_size,:], scaled_data[train_size:len(scaled_data),:]\n",
        "\n",
        "# create function to create dataset with look back\n",
        "def create_dataset(dataset, look_back=1):\n",
        "    dataX, dataY = [], []\n",
        "    for i in range(len(dataset)-look_back-1):\n",
        "        a = dataset[i:(i+look_back), 0]\n",
        "        dataX.append(a)\n",
        "        dataY.append(dataset[i + look_back, 0])\n",
        "    return np.array(dataX), np.array(dataY)\n",
        "\n",
        "# reshape data\n",
        "look_back = 5\n",
        "trainX, trainY = create_dataset(train_data, look_back)\n",
        "testX, testY = create_dataset(test_data, look_back)\n",
        "\n",
        "# reshape input to be [samples, time steps, features]\n",
        "trainX = np.reshape(trainX, (trainX.shape[0], 1, trainX.shape[1]))\n",
        "testX = np.reshape(testX, (testX.shape[0], 1, testX.shape[1]))\n",
        "\n",
        "# define optimizer\n",
        "optimizer = Adam(lr=0.001, clipvalue=1.0)\n",
        "#optimizer='adam'\n",
        "\n",
        "# define and train model LSTM model\n",
        "model = Sequential()\n",
        "model.add(LSTM(4, input_shape=(1, look_back)))\n",
        "model.add(Dense(1))\n",
        "model.compile(loss='mean_squared_error', optimizer=optimizer)\n",
        "# define callbacks\n",
        "es = EarlyStopping(monitor='val_loss', mode='min', verbose=1, patience=10)\n",
        "reduce_lr = ReduceLROnPlateau(monitor='val_loss')\n",
        "#reduce_lr = ReduceLROnPlateau(monitor='val_loss', factor=0.5, patience=5, min_lr=0.00001, verbose=1)\n",
        "\n",
        "# train model\n",
        "model.fit(trainX, trainY, epochs=100, batch_size=32, verbose=2, callbacks=[es], validation_split=0.2)\n",
        "#model.fit(trainX, trainY, epochs=100, batch_size=256, verbose=2)\n",
        "\n",
        "# make predictions\n",
        "trainPredict = model.predict(trainX)\n",
        "testPredict = model.predict(testX)\n",
        "\n",
        "# invert predictions\n",
        "trainPredict = scaler.inverse_transform(trainPredict)\n",
        "trainY = scaler.inverse_transform([trainY])\n",
        "testPredict = scaler.inverse_transform(testPredict)\n",
        "testY = scaler.inverse_transform([testY])\n",
        "\n",
        "# calculate root mean squared error\n",
        "trainScore = np.sqrt(mean_squared_error(trainY[0], trainPredict[:,0]))\n",
        "testScore = np.sqrt(mean_squared_error(testY[0], testPredict[:,0]))\n",
        "print('Train Score: %.2f RMSE' % (trainScore))\n",
        "print('Test Score: %.2f RMSE' % (testScore))\n"
      ],
      "metadata": {
        "id": "A-P8F8PFliCk"
      },
      "execution_count": null,
      "outputs": []
    },
    {
      "cell_type": "code",
      "source": [
        "test_p = testPredict.reshape(-1, 1)\n",
        "\n",
        "test_y = testY.reshape(-1, 1)"
      ],
      "metadata": {
        "id": "CPNCaJH8TWwf"
      },
      "execution_count": null,
      "outputs": []
    },
    {
      "cell_type": "code",
      "source": [
        "plt.figure(figsize=(12,5))\n",
        "\n",
        "\n",
        "# Plot a subset of the data\n",
        "plt.plot(test_p[200:], 'r', marker='.', label='Predicted Test')\n",
        "plt.plot(test_y[200:], label='Actual Test')\n",
        "plt.legend()\n",
        "\n",
        "# Display the plot\n",
        "plt.show()\n"
      ],
      "metadata": {
        "id": "hjhaL7RqPanx"
      },
      "execution_count": null,
      "outputs": []
    },
    {
      "cell_type": "markdown",
      "source": [
        "##**HGBOOST**"
      ],
      "metadata": {
        "id": "4QjXp4gFa9el"
      }
    },
    {
      "cell_type": "code",
      "execution_count": null,
      "metadata": {
        "colab": {
          "background_save": true,
          "base_uri": "https://localhost:8080/"
        },
        "id": "JGceVYPjijLg",
        "outputId": "db64929f-f39f-4213-f114-d68a57f6994a"
      },
      "outputs": [
        {
          "name": "stdout",
          "output_type": "stream",
          "text": [
            "Fitting 3 folds for each of 81 candidates, totalling 243 fits\n",
            "Best Parameters: {'colsample_bytree': 0.8, 'learning_rate': 0.1, 'max_depth': 7, 'subsample': 1.0}\n",
            "Fitting 3 folds for each of 10 candidates, totalling 30 fits\n",
            "Best Parameters: {'subsample': 0.8, 'n_estimators': 400, 'max_depth': 9, 'learning_rate': 0.1, 'colsample_bytree': 0.8}\n",
            "Mean Squared Error: 2.1090703598415446\n"
          ]
        }
      ],
      "source": [
        "import pandas as pd\n",
        "import xgboost as xgb\n",
        "from sklearn.model_selection import train_test_split\n",
        "from sklearn.metrics import mean_squared_error\n",
        "from sklearn.model_selection import train_test_split, GridSearchCV, RandomizedSearchCV\n",
        "from sklearn.preprocessing import MinMaxScaler\n",
        "\n",
        "# Split the data into training and testing sets\n",
        "train_size = int(len(data) * 0.8)\n",
        "train_data = data[:train_size]\n",
        "test_data  = data[train_size:]\n",
        "\n",
        "y_train = train_data['close']\n",
        "y_test = test_data['close']\n",
        "\n",
        "# Scale the input data\n",
        "scaler = MinMaxScaler()\n",
        "train_scaled = scaler.fit_transform(train_data)\n",
        "test_scaled = scaler.transform(test_data)\n",
        "\n",
        "# Create the DMatrix from the scaled training data\n",
        "dtrain = xgb.DMatrix(train_scaled, label=y_train)\n",
        "\n",
        "# Define the parameter grid for grid search\n",
        "param_grid = {\n",
        "    'max_depth': [3, 5, 7],\n",
        "    'learning_rate': [0.1, 0.01, 0.001],\n",
        "    'subsample': [0.8, 0.9, 1.0],\n",
        "    'colsample_bytree': [0.8, 0.9, 1.0]\n",
        "}\n",
        "\n",
        "# Perform grid search\n",
        "grid_search = GridSearchCV(\n",
        "    estimator=xgb.XGBRegressor(objective='reg:squarederror', seed=42),\n",
        "    param_grid=param_grid,\n",
        "    scoring='neg_mean_squared_error',\n",
        "    cv=3,\n",
        "    verbose=1\n",
        ")\n",
        "grid_search.fit(train_scaled, y_train)\n",
        "\n",
        "# Get the best parameters and model\n",
        "best_params = grid_search.best_params_\n",
        "best_model = grid_search.best_estimator_\n",
        "\n",
        "# Print the best parameters\n",
        "print(\"Best Parameters:\", best_params)\n",
        "\n",
        "# Perform random search\n",
        "param_dist = {\n",
        "    'max_depth': [3, 5, 7, 9],\n",
        "    'learning_rate': [0.1, 0.01, 0.001, 0.0001],\n",
        "    'subsample': [0.8, 0.9, 1.0],\n",
        "    'colsample_bytree': [0.8, 0.9, 1.0],\n",
        "    'n_estimators': [100, 200, 300, 400, 500]\n",
        "}\n",
        "\n",
        "# Perform random search\n",
        "random_search = RandomizedSearchCV(\n",
        "    estimator=xgb.XGBRegressor(objective='reg:squarederror', seed=42),\n",
        "    param_distributions=param_dist,\n",
        "    scoring='neg_mean_squared_error',\n",
        "    cv=3,\n",
        "    n_iter=10,  # Number of random combinations to try\n",
        "    random_state=42,\n",
        "    verbose=1\n",
        ")\n",
        "random_search.fit(train_scaled, y_train)\n",
        "\n",
        "# Get the best parameters and model\n",
        "best_params = random_search.best_params_\n",
        "best_model = random_search.best_estimator_\n",
        "\n",
        "# Print the best parameters\n",
        "print(\"Best Parameters:\", best_params)\n",
        "\n",
        "# Make predictions on the test set using the best model\n",
        "y_pred = best_model.predict(test_scaled)\n",
        "\n",
        "# Evaluate the model\n",
        "mse = mean_squared_error(y_test, y_pred)\n",
        "print(\"Mean Squared Error:\", mse)\n"
      ]
    },
    {
      "cell_type": "code",
      "execution_count": null,
      "metadata": {
        "id": "Y5qU5oB4mIT6"
      },
      "outputs": [],
      "source": [
        "#ytest = y_test.reshape(-1, 1)\n",
        "\n",
        "ypred = y_pred.reshape(-1, 1)"
      ]
    },
    {
      "cell_type": "code",
      "source": [
        "import plotly.graph_objects as go\n",
        "\n",
        "# Plot actual vs predicted\n",
        "fig = go.Figure()\n",
        "fig.add_trace(go.Scatter(x=test_data.index, y=y_test, mode='lines', name='Actual'))\n",
        "fig.add_trace(go.Scatter(x=test_data.index, y=y_pred, mode='markers', name='Predicted',marker=dict(size=2)))\n",
        "\n",
        "fig.update_layout(\n",
        "    title='Actual vs Predicted',\n",
        "    xaxis_title='Sample',\n",
        "    yaxis_title='Value'\n",
        ")\n",
        "\n",
        "fig.show()\n"
      ],
      "metadata": {
        "id": "FCLWrE2zDSCC"
      },
      "execution_count": null,
      "outputs": []
    }
  ]
}